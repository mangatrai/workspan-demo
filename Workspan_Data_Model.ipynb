{
  "cells": [
    {
      "cell_type": "markdown",
      "id": "-neIomNS4cl6",
      "metadata": {
        "id": "-neIomNS4cl6"
      },
      "source": [
        "# Data Storage and Access Patterns (including Astra Vector Search)\n",
        "\n"
      ]
    },
    {
      "cell_type": "markdown",
      "id": "2c1f964d-aa85-4b2f-a04c-71c295fe9d1e",
      "metadata": {
        "id": "2c1f964d-aa85-4b2f-a04c-71c295fe9d1e"
      },
      "source": [
        "# Table Schema\n",
        "\n",
        "```\n",
        "CREATE TABLE IF NOT EXISTS workspan.customer_opportunities (\n",
        "    customer_id text,\n",
        "    partner_id text,\n",
        "    opportunity_id text,\n",
        "    customer_name text static,\n",
        "    next_step text,\n",
        "    cadence text,\n",
        "    llm_output text,\n",
        "    opportunity map<text, text>,\n",
        "    llm_output_embedding vector<float, 1536>,\n",
        "    sentiment text,\n",
        "    PRIMARY KEY ((customer_id, partner_id), opportunity_id)\n",
        ") WITH CLUSTERING ORDER BY (opportunity_id DESC)\n",
        "\n",
        "```\n",
        "\n"
      ]
    },
    {
      "cell_type": "markdown",
      "id": "L2pRI7iZN45b",
      "metadata": {
        "id": "L2pRI7iZN45b"
      },
      "source": [
        "* customer_id: Unique identifier for each customer\n",
        "* partner_id: AWS / Azure / GCP\n",
        "* opportunity_id: Unique identifier for each opportunity\n",
        "* opportunity: Dynamic collection of data field names and corresponding values specific to the opportunity. Other fields can be stored in separate table columns.\n",
        "* llm_ouput: LLM output summarizing the 'next steps' , 'challenges' and 'open items'  \n",
        "* llm_ouput_embedding: Text embeddings corresponding to llm_output\n",
        "* sentiment: Positive, Neutral and Negative sentiment derived from 'next step' and 'cadence' data fields. This can be determined either by using a sentiment analysis library such as  Python Natural Language Toolkit (NLTK) or from LLM.\n"
      ]
    },
    {
      "cell_type": "markdown",
      "id": "25d08ec4-0e7b-4819-933f-43ed5ff95e48",
      "metadata": {
        "id": "25d08ec4-0e7b-4819-933f-43ed5ff95e48"
      },
      "source": [
        "# Imports"
      ]
    },
    {
      "cell_type": "code",
      "execution_count": null,
      "id": "uMoWlVK8ryqd",
      "metadata": {
        "id": "uMoWlVK8ryqd"
      },
      "outputs": [],
      "source": [
        "!pip install openai cassandra-driver llama-index"
      ]
    },
    {
      "cell_type": "code",
      "execution_count": 2,
      "id": "ldfNIehRsB3W",
      "metadata": {
        "id": "ldfNIehRsB3W"
      },
      "outputs": [],
      "source": [
        "from cassandra.cluster import Cluster\n",
        "from cassandra.auth import PlainTextAuthProvider\n",
        "from cassandra.query import dict_factory\n",
        "from cassandra.query import SimpleStatement\n",
        "import openai\n",
        "from llama_index import ListIndex\n",
        "from llama_index.readers.schema.base import Document\n",
        "from IPython.display import Markdown, display"
      ]
    },
    {
      "cell_type": "markdown",
      "id": "b7a93b64-e9e9-41d1-95c9-dc9194a5ec8d",
      "metadata": {
        "id": "b7a93b64-e9e9-41d1-95c9-dc9194a5ec8d"
      },
      "source": [
        "# Keys & Environment Variables"
      ]
    },
    {
      "cell_type": "code",
      "execution_count": 3,
      "id": "ebeb1df7-2dcc-4ba6-a941-49c68631bd49",
      "metadata": {
        "id": "ebeb1df7-2dcc-4ba6-a941-49c68631bd49"
      },
      "outputs": [],
      "source": [
        "# keys and tokens here\n",
        "openai_api_key = \"\"\n",
        "openai.api_key = openai_api_key\n",
        "cass_user = 'client-id'\n",
        "cass_pw = 'client-secret'\n",
        "scb_path = 'secure-connect-bundle.zip'"
      ]
    },
    {
      "cell_type": "markdown",
      "id": "a96369f4-d311-44c2-8469-f960a2a8718a",
      "metadata": {
        "id": "a96369f4-d311-44c2-8469-f960a2a8718a"
      },
      "source": [
        "# Select a model to compute embeddings"
      ]
    },
    {
      "cell_type": "code",
      "execution_count": 4,
      "id": "553fece5-8154-4e18-9610-ff4999bfe171",
      "metadata": {
        "id": "553fece5-8154-4e18-9610-ff4999bfe171"
      },
      "outputs": [],
      "source": [
        "model_id = \"text-embedding-ada-002\""
      ]
    },
    {
      "cell_type": "markdown",
      "id": "bafd4fc1-84a4-4384-bb3e-42ecffab2455",
      "metadata": {
        "id": "bafd4fc1-84a4-4384-bb3e-42ecffab2455"
      },
      "source": [
        "# Connect to the Cluster"
      ]
    },
    {
      "cell_type": "code",
      "execution_count": 6,
      "id": "8c5b0058-391d-421e-81a0-eb2f7fe684df",
      "metadata": {
        "colab": {
          "base_uri": "https://localhost:8080/"
        },
        "id": "8c5b0058-391d-421e-81a0-eb2f7fe684df",
        "outputId": "2b0a5eed-dabe-4569-c423-e2e0cdfd55b7"
      },
      "outputs": [
        {
          "name": "stderr",
          "output_type": "stream",
          "text": [
            "WARNING:cassandra.cluster:Downgrading core protocol version from 66 to 65 for b2d68f45-7d3e-4936-a50c-b0742b34b3f5-us-east-2.db.astra.datastax.com:29042:6d1f8fed-4e79-42bd-8cb2-7f2dc0b56183. To avoid this, it is best practice to explicitly set Cluster(protocol_version) to the version supported by your cluster. http://datastax.github.io/python-driver/api/cassandra/cluster.html#cassandra.cluster.Cluster.protocol_version\n",
            "WARNING:cassandra.cluster:Downgrading core protocol version from 65 to 5 for b2d68f45-7d3e-4936-a50c-b0742b34b3f5-us-east-2.db.astra.datastax.com:29042:6d1f8fed-4e79-42bd-8cb2-7f2dc0b56183. To avoid this, it is best practice to explicitly set Cluster(protocol_version) to the version supported by your cluster. http://datastax.github.io/python-driver/api/cassandra/cluster.html#cassandra.cluster.Cluster.protocol_version\n",
            "ERROR:cassandra.connection:Closing connection <AsyncoreConnection(137539020904656) b2d68f45-7d3e-4936-a50c-b0742b34b3f5-us-east-2.db.astra.datastax.com:29042:6d1f8fed-4e79-42bd-8cb2-7f2dc0b56183> due to protocol error: Error from server: code=000a [Protocol error] message=\"Beta version of the protocol used (5/v5-beta), but USE_BETA flag is unset\"\n",
            "WARNING:cassandra.cluster:Downgrading core protocol version from 5 to 4 for b2d68f45-7d3e-4936-a50c-b0742b34b3f5-us-east-2.db.astra.datastax.com:29042:6d1f8fed-4e79-42bd-8cb2-7f2dc0b56183. To avoid this, it is best practice to explicitly set Cluster(protocol_version) to the version supported by your cluster. http://datastax.github.io/python-driver/api/cassandra/cluster.html#cassandra.cluster.Cluster.protocol_version\n"
          ]
        }
      ],
      "source": [
        "cloud_config= {\n",
        "  'secure_connect_bundle': scb_path\n",
        "}\n",
        "auth_provider = PlainTextAuthProvider(cass_user, cass_pw)\n",
        "cluster = Cluster(cloud=cloud_config, auth_provider=auth_provider)\n",
        "session = cluster.connect()\n",
        "session.set_keyspace('workspan')"
      ]
    },
    {
      "cell_type": "markdown",
      "id": "0670b30f-927f-47da-b71d-0a99092c3f58",
      "metadata": {
        "id": "0670b30f-927f-47da-b71d-0a99092c3f58"
      },
      "source": [
        "# Drop / Create Schema"
      ]
    },
    {
      "cell_type": "code",
      "execution_count": 7,
      "id": "a941c487-1c6b-4f46-a0a3-305a95931d82",
      "metadata": {
        "colab": {
          "base_uri": "https://localhost:8080/"
        },
        "id": "a941c487-1c6b-4f46-a0a3-305a95931d82",
        "outputId": "90ffb22f-f39b-4632-dcc1-be2319a9a4c7"
      },
      "outputs": [
        {
          "data": {
            "text/plain": [
              "<cassandra.cluster.ResultSet at 0x7d174b5f00d0>"
            ]
          },
          "execution_count": 7,
          "metadata": {},
          "output_type": "execute_result"
        }
      ],
      "source": [
        "\n",
        "# # Create Table\n",
        "session.execute(f\"\"\"CREATE TABLE IF NOT EXISTS workspan.customer_opportunities (\n",
        "    customer_id text,\n",
        "    partner_id text,\n",
        "    opportunity_id text,\n",
        "    customer_name text static,\n",
        "    next_step text,\n",
        "    cadence text,\n",
        "    llm_output text,\n",
        "    opportunity map<text, text>,\n",
        "    llm_output_embedding vector<float, 1536>,\n",
        "    sentiment text,\n",
        "    PRIMARY KEY ((customer_id, partner_id), opportunity_id)\n",
        ") WITH CLUSTERING ORDER BY (opportunity_id DESC)\"\"\")\n",
        "\n"
      ]
    },
    {
      "cell_type": "code",
      "execution_count": null,
      "id": "KLI4U_JqpAfI",
      "metadata": {
        "id": "KLI4U_JqpAfI"
      },
      "outputs": [],
      "source": [
        "session.execute(f\"\"\"CREATE CUSTOM INDEX ON workspan.customer_opportunities(opportunity) USING 'org.apache.cassandra.index.sai.StorageAttachedIndex'\"\"\")"
      ]
    },
    {
      "cell_type": "code",
      "execution_count": null,
      "id": "oeWFaC5Q5EjL",
      "metadata": {
        "id": "oeWFaC5Q5EjL"
      },
      "outputs": [],
      "source": [
        "session.execute(f\"\"\"CREATE CUSTOM INDEX ON workspan.customer_opportunities (llm_output_embedding) USING 'org.apache.cassandra.index.sai.StorageAttachedIndex'\"\"\")"
      ]
    },
    {
      "cell_type": "code",
      "execution_count": null,
      "id": "qAx4jimW6PaQ",
      "metadata": {
        "id": "qAx4jimW6PaQ"
      },
      "outputs": [],
      "source": [
        "session.execute(f\"\"\"CREATE CUSTOM INDEX ON workspan.customer_opportunities (sentiment) USING 'org.apache.cassandra.index.sai.StorageAttachedIndex'\"\"\")"
      ]
    },
    {
      "cell_type": "markdown",
      "id": "BDLwp--lbTHa",
      "metadata": {
        "id": "BDLwp--lbTHa"
      },
      "source": [
        "# Create the following SAI with analyser from CQL\n",
        "\n",
        "\n",
        "```\n",
        "CREATE CUSTOM INDEX ON workspan.customer_opportunities(llm_output) USING 'org.apache.cassandra.index.sai.StorageAttachedIndex' WITH OPTIONS = {'index_analyzer': '{\n",
        "\"tokenizer\" : {\"name\" : \"standard\"},\n",
        "\"filters\" : [{\"name\" : \"porterstem\"}] }'};\n",
        "```\n",
        "\n"
      ]
    },
    {
      "cell_type": "markdown",
      "id": "my8W1djmGEFZ",
      "metadata": {
        "id": "my8W1djmGEFZ"
      },
      "source": [
        "# Calculate the sentiment\n",
        "\n",
        "Sentiment can be calculated either by using a sentiment analysis library such as Python Natural Language Toolkit (NLTK) or from LLM."
      ]
    },
    {
      "cell_type": "code",
      "execution_count": 11,
      "id": "8IubYIEwNMvB",
      "metadata": {
        "id": "8IubYIEwNMvB"
      },
      "outputs": [],
      "source": [
        "def indentify_sentiment(next_step_and_cadence):\n",
        "    import nltk\n",
        "    from nltk.sentiment.vader import SentimentIntensityAnalyzer\n",
        "\n",
        "    nltk.download('vader_lexicon')\n",
        "    sid = SentimentIntensityAnalyzer()\n",
        "\n",
        "    sentiment_scores = sid.polarity_scores(next_step_and_cadence)\n",
        "    if sentiment_scores['compound'] >= 0.05:\n",
        "        sentiment = 'positive'\n",
        "    elif sentiment_scores['compound'] <= -0.05:\n",
        "        sentiment = 'negative'\n",
        "    else:\n",
        "        sentiment = 'neutral'\n",
        "\n",
        "    print(f\"Sentiment: {sentiment}\")\n",
        "    return sentiment\n"
      ]
    },
    {
      "cell_type": "markdown",
      "id": "SUVtAvlmGMTB",
      "metadata": {
        "id": "SUVtAvlmGMTB"
      },
      "source": [
        "# Generate LLM ouput"
      ]
    },
    {
      "cell_type": "code",
      "execution_count": 14,
      "id": "jLKLn4xLMNQV",
      "metadata": {
        "id": "jLKLn4xLMNQV"
      },
      "outputs": [],
      "source": [
        "def extract_llm_information(next_step_and_cadence):\n",
        "\n",
        "    llm_input = f\"\"\"\n",
        "                Given the following information, please identify the challenges, next steps, and open items. If there is a mention of any meetings that need to be scheduled, please list it under 'schedule a meeting:'. If there's no indication of a meeting, then avoid the listing:\n",
        "\n",
        "                {next_step_and_cadence}\n",
        "\n",
        "                End of information.\n",
        "                \"\"\"\n",
        "\n",
        "    response = openai.chat.completions.create(\n",
        "        #model=\"gpt-3.5-turbo\",\n",
        "        model=\"gpt-4\",\n",
        "        messages=[\n",
        "            {\"role\": \"system\", \"content\": \"You are a helpful assistant. Use the instructions provided to process the information.\"},\n",
        "            {\"role\": \"user\", \"content\": llm_input}\n",
        "        ]\n",
        "    )\n",
        "\n",
        "    return response.choices[0].message.content"
      ]
    },
    {
      "cell_type": "markdown",
      "id": "5BqlxWG-zSZc",
      "metadata": {
        "id": "5BqlxWG-zSZc"
      },
      "source": [
        "# Insert records with the calculated sentiment and LLM embeddings"
      ]
    },
    {
      "cell_type": "code",
      "execution_count": 21,
      "id": "IedeKXPDv2Rv",
      "metadata": {
        "colab": {
          "base_uri": "https://localhost:8080/"
        },
        "id": "IedeKXPDv2Rv",
        "outputId": "517ee0ec-f9ff-41f2-e925-2517baeaf8f4"
      },
      "outputs": [
        {
          "name": "stderr",
          "output_type": "stream",
          "text": [
            "[nltk_data] Downloading package vader_lexicon to /root/nltk_data...\n",
            "[nltk_data]   Package vader_lexicon is already up-to-date!\n"
          ]
        },
        {
          "name": "stdout",
          "output_type": "stream",
          "text": [
            "Sentiment: positive\n",
            "Challenges:\n",
            "1. Deprioritization confirmed by Michael may affect project timeline and allocation of resources. \n",
            "\n",
            "Next Steps:\n",
            "1. On 08/16/2023, review partner information updates and update opportunity details.\n",
            "2. On 08/17, LR to connect with Partner to offer co-sell support. \n",
            "\n",
            "Open Items:\n",
            "1. Meeting to be scheduled by Anjaney with Nirav/Amy on R&D.\n",
            "\n",
            "Schedule a Meeting:\n",
            "1. Anjaney to schedule a call with Nirav/Amy on R&D. Discussion of account executive interest./n\n",
            "Sentiment: neutral\n"
          ]
        },
        {
          "name": "stderr",
          "output_type": "stream",
          "text": [
            "[nltk_data] Downloading package vader_lexicon to /root/nltk_data...\n",
            "[nltk_data]   Package vader_lexicon is already up-to-date!\n"
          ]
        },
        {
          "name": "stdout",
          "output_type": "stream",
          "text": [
            "Challenges:\n",
            "1. Timely delivery of the recording and inputs from the demo held on 8/28.\n",
            "2. Review of the Technical and Economic Proposal might be challenging if there's a lack of expertise in the team.\n",
            "\n",
            "Next Steps:\n",
            "1. Autumn needs to send the recording of the last call and the discussed inputs from the demo conducted on 8/28.\n",
            "2. Ramesh is required to provide the recording to Caroline by early next week.\n",
            "3. The team needs to review the Technical and Economic Proposal.\n",
            "\n",
            "Open Items:\n",
            "1. Completion of the task that has been assigned to Autumn.\n",
            "2. Review of the Technical and Economic Proposal.\n",
            "\n",
            "Schedule a Meeting:\n",
            "No mention of a meeting to be scheduled./n\n"
          ]
        },
        {
          "name": "stderr",
          "output_type": "stream",
          "text": [
            "[nltk_data] Downloading package vader_lexicon to /root/nltk_data...\n",
            "[nltk_data]   Package vader_lexicon is already up-to-date!\n"
          ]
        },
        {
          "name": "stdout",
          "output_type": "stream",
          "text": [
            "Sentiment: positive\n",
            "Challenges:\n",
            "1. Coordinating with Federico Gandolfo for the deal support discussion.\n",
            "\n",
            "Next Steps:\n",
            "1. Execution of the joint sync set for 9/7.\n",
            "2. Commence an enablement session followed by an in-person account mapping.\n",
            "3. Caroline and Michael need to start coordinating.\n",
            "4. Ensure EAI presence.\n",
            "\n",
            "Open Items:\n",
            "1. Deal support discussion with Federico Gandolfo.\n",
            "\n",
            "Schedule a Meeting:\n",
            "1. Joint sync set for 9/7.\n",
            "2. A meeting with Federico Gandolfo on 07/05/2023 for deal support discussion./n\n"
          ]
        },
        {
          "name": "stderr",
          "output_type": "stream",
          "text": [
            "[nltk_data] Downloading package vader_lexicon to /root/nltk_data...\n",
            "[nltk_data]   Package vader_lexicon is already up-to-date!\n"
          ]
        },
        {
          "name": "stdout",
          "output_type": "stream",
          "text": [
            "Sentiment: positive\n",
            "Challenges:\n",
            "1. Initial data retrieval from the user community.\n",
            "2. Pulling together Point of View (PoV) for the client.\n",
            "3. Conducting in-person outreach to Deloitte users.\n",
            "4. Follow-up on received responses.\n",
            "\n",
            "Next Steps:\n",
            "1. Contact Federico Gandolfo on 06/20/2023 and 07/05/2023 to discuss deal support.\n",
            "2. Perform in-person outreach to Deloitte users. \n",
            "\n",
            "Open Items:\n",
            "1. Response from the user community to Caroline's engagement.\n",
            "2. Clarification on pulling together PoV for the client.\n",
            "\n",
            "Schedule a Meeting:\n",
            "1. Meeting with Federico Gandolfo on 06/20/2023 and 07/05/2023./n\n"
          ]
        },
        {
          "name": "stderr",
          "output_type": "stream",
          "text": [
            "[nltk_data] Downloading package vader_lexicon to /root/nltk_data...\n",
            "[nltk_data]   Package vader_lexicon is already up-to-date!\n"
          ]
        },
        {
          "name": "stdout",
          "output_type": "stream",
          "text": [
            "Sentiment: negative\n",
            "Challenges:\n",
            "1. Proposal did not go through.\n",
            "2. There's no budget left.\n",
            "\n",
            "Next Steps:\n",
            "No further follow up required.\n",
            "\n",
            "Open Items:\n",
            "None\n",
            "\n",
            "Schedule a Meeting:\n",
            "Not applicable/n\n"
          ]
        },
        {
          "data": {
            "text/plain": [
              "<cassandra.cluster.ResultSet at 0x7d1731901240>"
            ]
          },
          "execution_count": 21,
          "metadata": {},
          "output_type": "execute_result"
        }
      ],
      "source": [
        "query = SimpleStatement(\n",
        "            f\"\"\"\n",
        "            INSERT INTO workspan.customer_opportunities\n",
        "            (customer_id, partner_id, opportunity_id, customer_name, llm_output,  opportunity , llm_output_embedding , sentiment )\n",
        "            VALUES (%s, %s, %s, %s, %s , %s , %s , %s )\n",
        "            \"\"\"\n",
        "        )\n",
        "\n",
        "# record #1\n",
        "\n",
        "next_step = f\"\"\"\n",
        "Action Items:\n",
        "From Michael, confirmed deprioritize. From Anjaney, account executive interest to schedule meeting - Anjaney to schedule call with Nirav/Amy on R&D.\n",
        "\"\"\"\n",
        "\n",
        "cadence = f\"\"\"\n",
        "Next Step:\n",
        "08/16/2023 : Review partner information updates and update opportunity details. 8/17(LR) - connecting with Partner to offer co-sell support\n",
        "\n",
        "Next Step History:\n",
        "null;08/16/2023 : Review partner information updates and update opportunity details.;08/16/2023 : Review partner information updates and update opportunity details. 8/17(LR) - connecting with Partner to offer co-sell support\n",
        "\"\"\"\n",
        "\n",
        "next_step_and_cadence = next_step + cadence\n",
        "\n",
        "sentiment = indentify_sentiment(next_step_and_cadence)\n",
        "llm_output = extract_llm_information(next_step_and_cadence)\n",
        "print(f\"{llm_output}/n\")\n",
        "embedding_llm_output = openai.embeddings.create(input= llm_output, model=model_id).data[0].embedding\n",
        "session.execute(query, ('CUS100' , 'AWS', 'WS-7202838a', 'Teradyne, Inc.', llm_output,  {'Customer State' : 'Ile-de-France', 'Customer Country' : 'France', 'Deal Size' : '30000', 'Description' : 'Pain Point: Persistent phishing attacks and email compromises leading to data leaks and compromised accounts. Description: The customer is struggling with the recurring threat of phishing attacks that infiltrate their systems, compromising sensitive data and risking the confidentiality of critical information.' }\n",
        "                        , embedding_llm_output , sentiment))\n",
        "\n",
        "# record #2\n",
        "\n",
        "next_step = f\"\"\"\n",
        "Action Items:\n",
        "From Autumn, send recording of last call and our discussed inputs from demo 8/28. Ramesh will provide to Caroline by early next week (of 9/11).\n",
        "\"\"\"\n",
        "\n",
        "cadence = f\"\"\"\n",
        "REVIEW TECH & Economic Proposal\n",
        "\"\"\"\n",
        "\n",
        "next_step_and_cadence = next_step + cadence\n",
        "\n",
        "sentiment = indentify_sentiment(next_step_and_cadence)\n",
        "llm_output = extract_llm_information(next_step_and_cadence)\n",
        "print(f\"{llm_output}/n\")\n",
        "embedding_llm_output = openai.embeddings.create(input= llm_output, model=model_id).data[0].embedding\n",
        "session.execute(query, ('CUS100' , 'AWS', 'WS-8a038b8a', 'Teradyne, Inc.', llm_output,  {'Customer State' : 'Ile-de-France', 'Customer Country' : 'France', 'Deal Size' : '30000', 'Description' : 'Pain Point: Persistent phishing attacks and email compromises leading to data leaks and compromised accounts. Description: The customer is struggling with the recurring threat of phishing attacks that infiltrate their systems, compromising sensitive data and risking the confidentiality of critical information.' }\n",
        "                        , embedding_llm_output , sentiment))\n",
        "\n",
        "# record #3\n",
        "\n",
        "next_step = f\"\"\"\n",
        "Action Items:\n",
        "Joint sync set for 9/7. Enablement session to follow + in person account mapping. Caroline / Michael to begin coordinating. EAI presence\n",
        "\"\"\"\n",
        "\n",
        "cadence = f\"\"\"\n",
        "07/05/2023: Contact Federico Gandolfo,federico.hernan.gandolfo@abc.com,+54.911.3204.4871 to discuss Deal support\n",
        "\"\"\"\n",
        "\n",
        "next_step_and_cadence = next_step + cadence\n",
        "\n",
        "sentiment = indentify_sentiment(next_step_and_cadence)\n",
        "llm_output = extract_llm_information(next_step_and_cadence)\n",
        "print(f\"{llm_output}/n\")\n",
        "embedding_llm_output = openai.embeddings.create(input= llm_output, model=model_id).data[0].embedding\n",
        "session.execute(query, ('CUS100' , 'AWS', 'WS-8a3b0348', 'Teradyne, Inc.', llm_output,  {'Customer State' : 'Ile-de-France', 'Customer Country' : 'France', 'Deal Size' : '30000', 'Description' : 'Pain Point: Persistent phishing attacks and email compromises leading to data leaks and compromised accounts. Description: The customer is struggling with the recurring threat of phishing attacks that infiltrate their systems, compromising sensitive data and risking the confidentiality of critical information.' }\n",
        "                        , embedding_llm_output , sentiment))\n",
        "\n",
        "# record #4\n",
        "\n",
        "next_step = f\"\"\"\n",
        "Action Items:\n",
        "From Caroline, user community engaged to respond to questions. @Dataiku - How can we get initial data from user community/pull together PoV for client? Action (Asan/Ken (sp?)): In-person outreach to Deloitte users and follow-up to 5 responses received.\n",
        "\"\"\"\n",
        "\n",
        "cadence = f\"\"\"\n",
        "null;06/20/2023: Contact Federico Gandolfo,federico.hernan.gandolfo@abc.com,+54.911.3204.4871 to discuss Deal support;07/05/2023: Contact Federico Gandolfo,federico.hernan.gandolfo@abc.com,+54.911.3204.4871 to discuss Deal support\n",
        "\"\"\"\n",
        "\n",
        "next_step_and_cadence = next_step + cadence\n",
        "\n",
        "sentiment = indentify_sentiment(next_step_and_cadence)\n",
        "llm_output = extract_llm_information(next_step_and_cadence)\n",
        "print(f\"{llm_output}/n\")\n",
        "embedding_llm_output = openai.embeddings.create(input= llm_output, model=model_id).data[0].embedding\n",
        "session.execute(query, ('CUS100' , 'AWS', 'WS-8a7128a3', 'Teradyne, Inc.', llm_output,  {'Customer State' : 'Ile-de-France', 'Customer Country' : 'France', 'Deal Size' : '30000', 'Description' : 'Pain Point: Persistent phishing attacks and email compromises leading to data leaks and compromised accounts. Description: The customer is struggling with the recurring threat of phishing attacks that infiltrate their systems, compromising sensitive data and risking the confidentiality of critical information.' }\n",
        "                        , embedding_llm_output , sentiment))\n",
        "\n",
        "# record #4\n",
        "\n",
        "next_step = f\"\"\"\n",
        "Propsal did not go thru. No budget Left. Negative.\n",
        "\"\"\"\n",
        "\n",
        "cadence = f\"\"\"\n",
        "No further follow up required.\n",
        "\"\"\"\n",
        "\n",
        "next_step_and_cadence = next_step + cadence\n",
        "\n",
        "sentiment = indentify_sentiment(next_step_and_cadence)\n",
        "llm_output = extract_llm_information(next_step_and_cadence)\n",
        "print(f\"{llm_output}/n\")\n",
        "embedding_llm_output = openai.embeddings.create(input= llm_output, model=model_id).data[0].embedding\n",
        "session.execute(query, ('CUS100' , 'AWS', 'WS-8a7128a4', 'Teradyne, Inc.', llm_output,  {'Customer State' : 'Ile-de-France', 'Customer Country' : 'France', 'Deal Size' : '30000', 'Description' : 'Pain Point: Persistent phishing attacks and email compromises leading to data leaks and compromised accounts. Description: The customer is struggling with the recurring threat of phishing attacks that infiltrate their systems, compromising sensitive data and risking the confidentiality of critical information.' }\n",
        "                        , embedding_llm_output , sentiment))\n",
        "\n"
      ]
    },
    {
      "cell_type": "markdown",
      "id": "eFUGSeuhGZ2M",
      "metadata": {
        "id": "eFUGSeuhGZ2M"
      },
      "source": [
        "# Opportunity Specific Queries"
      ]
    },
    {
      "cell_type": "markdown",
      "id": "Ow36bzT-2r1s",
      "metadata": {
        "id": "Ow36bzT-2r1s"
      },
      "source": [
        "What is the customer sentiment on this opportunity?"
      ]
    },
    {
      "cell_type": "code",
      "execution_count": 22,
      "id": "POI0ET0X2mai",
      "metadata": {
        "colab": {
          "base_uri": "https://localhost:8080/"
        },
        "id": "POI0ET0X2mai",
        "outputId": "04691146-c4a4-4347-ef56-b923c18de63b"
      },
      "outputs": [
        {
          "name": "stdout",
          "output_type": "stream",
          "text": [
            "\n",
            "Row 0:\n",
            "    customer_id:      CUS100\n",
            "    partner_id:      AWS\n",
            "    opportunity_id:      WS-7202838a\n",
            "    customer_name:      Teradyne, Inc.\n",
            "    sentiment:      positive\n",
            "\n",
            "...\n"
          ]
        }
      ],
      "source": [
        "cqlSelect = f'''SELECT * FROM workspan.customer_opportunities WHERE customer_id = 'CUS100' and partner_id = 'AWS' and opportunity_id = 'WS-7202838a'  ;'''\n",
        "rows = session.execute(cqlSelect)\n",
        "for row_i, row in enumerate(rows):\n",
        "    print(f'\\nRow {row_i}:')\n",
        "    print(f'    customer_id:      {row.customer_id}')\n",
        "    print(f'    partner_id:      {row.partner_id}')\n",
        "    print(f'    opportunity_id:      {row.opportunity_id}')\n",
        "    print(f'    customer_name:      {row.customer_name}')\n",
        "    print(f'    sentiment:      {row.sentiment}')\n",
        "\n",
        "print('\\n...')"
      ]
    },
    {
      "cell_type": "markdown",
      "id": "CDLLgfk0338_",
      "metadata": {
        "id": "CDLLgfk0338_"
      },
      "source": [
        "What are the next steps for this opportunity? Result can be further parsed to display only the next steps. Same query returns open items and challenges as well.  "
      ]
    },
    {
      "cell_type": "code",
      "execution_count": 23,
      "id": "pM03gRZT4A7v",
      "metadata": {
        "colab": {
          "base_uri": "https://localhost:8080/"
        },
        "id": "pM03gRZT4A7v",
        "outputId": "7eee3e70-7f08-47fb-d88a-4b054572fac2"
      },
      "outputs": [
        {
          "name": "stdout",
          "output_type": "stream",
          "text": [
            "\n",
            "Row 0:\n",
            "    customer_id:      CUS100\n",
            "    partner_id:      AWS\n",
            "    opportunity_id:      WS-7202838a\n",
            "    customer_name:      Teradyne, Inc.\n",
            "    llm_output:    \n",
            "  Challenges:\n",
            "1. The deprioritized item from Michael.\n",
            "   \n",
            "Next Steps:\n",
            "1. On 08/16/2023, you need to review partner information updates and update opportunity details.\n",
            "2. On 8/17, LR needs to connect with the Partner to offer co-sell support.\n",
            "\n",
            "Open Items:\n",
            "1. Anjaney needs to schedule a meeting with Nirav/Amy on R&D.\n",
            "\n",
            "Schedule a Meeting:\n",
            "1. Anjaney is to schedule a call with Nirav/Amy on R&D.\n",
            "\n",
            "...\n"
          ]
        }
      ],
      "source": [
        "cqlSelect = f'''SELECT * FROM workspan.customer_opportunities WHERE customer_id = 'CUS100' and partner_id = 'AWS' and opportunity_id = 'WS-7202838a';  '''\n",
        "rows = session.execute(cqlSelect)\n",
        "for row_i, row in enumerate(rows):\n",
        "    print(f'\\nRow {row_i}:')\n",
        "    print(f'    customer_id:      {row.customer_id}')\n",
        "    print(f'    partner_id:      {row.partner_id}')\n",
        "    print(f'    opportunity_id:      {row.opportunity_id}')\n",
        "    print(f'    customer_name:      {row.customer_name}')\n",
        "    print(f'    llm_output:    \\n  {row.llm_output}')\n",
        "\n",
        "print('\\n...')"
      ]
    },
    {
      "cell_type": "markdown",
      "id": "SDbPnN2uJsq0",
      "metadata": {
        "id": "SDbPnN2uJsq0"
      },
      "source": [
        "# Customer Specific Queries (across multiple opportunities)"
      ]
    },
    {
      "cell_type": "markdown",
      "id": "s_jSZKP7zUss",
      "metadata": {
        "id": "s_jSZKP7zUss"
      },
      "source": [
        "Identify the wins"
      ]
    },
    {
      "cell_type": "code",
      "execution_count": 24,
      "id": "A4cgsK4K5Z_l",
      "metadata": {
        "colab": {
          "base_uri": "https://localhost:8080/"
        },
        "id": "A4cgsK4K5Z_l",
        "outputId": "f65e80bd-999d-4e8f-8760-099507c1a797"
      },
      "outputs": [
        {
          "name": "stdout",
          "output_type": "stream",
          "text": [
            "\n",
            "Row 0:\n",
            "    customer_id:      CUS100\n",
            "    partner_id:      AWS\n",
            "    opportunity_id:      WS-8a7128a3\n",
            "    customer_name:      Teradyne, Inc.\n",
            "    sentiment:      positive\n",
            "\n",
            "Row 1:\n",
            "    customer_id:      CUS100\n",
            "    partner_id:      AWS\n",
            "    opportunity_id:      WS-8a3b0348\n",
            "    customer_name:      Teradyne, Inc.\n",
            "    sentiment:      positive\n",
            "\n",
            "Row 2:\n",
            "    customer_id:      CUS100\n",
            "    partner_id:      AWS\n",
            "    opportunity_id:      WS-7202838a\n",
            "    customer_name:      Teradyne, Inc.\n",
            "    sentiment:      positive\n",
            "\n",
            "...\n"
          ]
        }
      ],
      "source": [
        "cqlSelect = f'''SELECT * FROM workspan.customer_opportunities WHERE customer_id = 'CUS100' and partner_id = 'AWS' and sentiment = 'positive'  ;'''\n",
        "rows = session.execute(cqlSelect)\n",
        "for row_i, row in enumerate(rows):\n",
        "    print(f'\\nRow {row_i}:')\n",
        "    print(f'    customer_id:      {row.customer_id}')\n",
        "    print(f'    partner_id:      {row.partner_id}')\n",
        "    print(f'    opportunity_id:      {row.opportunity_id}')\n",
        "    print(f'    customer_name:      {row.customer_name}')\n",
        "    print(f'    sentiment:      {row.sentiment}')\n",
        "\n",
        "print('\\n...')"
      ]
    },
    {
      "cell_type": "markdown",
      "id": "RvHXXjLL8vfh",
      "metadata": {
        "id": "RvHXXjLL8vfh"
      },
      "source": [
        "Identify opportunities with next step to schedule a meeting"
      ]
    },
    {
      "cell_type": "code",
      "execution_count": 26,
      "id": "a8HJPTwC8wH5",
      "metadata": {
        "colab": {
          "base_uri": "https://localhost:8080/"
        },
        "id": "a8HJPTwC8wH5",
        "outputId": "f424fe7a-1a61-4bac-d2af-a424ab9ec428"
      },
      "outputs": [
        {
          "name": "stderr",
          "output_type": "stream",
          "text": [
            "WARNING:cassandra.protocol:Server warning: Top-K queries can only be run with consistency level ONE / LOCAL_ONE / NODE_LOCAL. Consistency level LOCAL_QUORUM was requested. Downgrading the consistency level to LOCAL_ONE.\n"
          ]
        },
        {
          "name": "stdout",
          "output_type": "stream",
          "text": [
            "\n",
            "Row 0:\n",
            "    customer_id:      CUS100\n",
            "    partner_id:      AWS\n",
            "    opportunity_id:      WS-8a038b8a\n",
            "    customer_name:      Teradyne, Inc.\n",
            "    sentiment:      neutral\n",
            "    llm_output:    \n",
            "  Challenges:\n",
            "1. Timely delivery of the recording and inputs from the demo held on 8/28.\n",
            "2. Review of the Technical and Economic Proposal might be challenging if there's a lack of expertise in the team.\n",
            "\n",
            "Next Steps:\n",
            "1. Autumn needs to send the recording of the last call and the discussed inputs from the demo conducted on 8/28.\n",
            "2. Ramesh is required to provide the recording to Caroline by early next week.\n",
            "3. The team needs to review the Technical and Economic Proposal.\n",
            "\n",
            "Open Items:\n",
            "1. Completion of the task that has been assigned to Autumn.\n",
            "2. Review of the Technical and Economic Proposal.\n",
            "\n",
            "Schedule a Meeting:\n",
            "No mention of a meeting to be scheduled.\n",
            "\n",
            "Row 1:\n",
            "    customer_id:      CUS100\n",
            "    partner_id:      AWS\n",
            "    opportunity_id:      WS-7202838a\n",
            "    customer_name:      Teradyne, Inc.\n",
            "    sentiment:      positive\n",
            "    llm_output:    \n",
            "  Challenges:\n",
            "1. The deprioritized item from Michael.\n",
            "   \n",
            "Next Steps:\n",
            "1. On 08/16/2023, you need to review partner information updates and update opportunity details.\n",
            "2. On 8/17, LR needs to connect with the Partner to offer co-sell support.\n",
            "\n",
            "Open Items:\n",
            "1. Anjaney needs to schedule a meeting with Nirav/Amy on R&D.\n",
            "\n",
            "Schedule a Meeting:\n",
            "1. Anjaney is to schedule a call with Nirav/Amy on R&D.\n",
            "\n",
            "...\n"
          ]
        }
      ],
      "source": [
        "vectorsearchon = 'next action to set up a meeting'\n",
        "embedding = openai.embeddings.create(input= vectorsearchon, model=model_id).data[0].embedding\n",
        "\n",
        "cqlSelect = f'''SELECT * FROM workspan.customer_opportunities WHERE customer_id = 'CUS100' and partner_id = 'AWS' and llm_output : 'schedule a meeting' ORDER BY llm_output_embedding ANN OF {embedding} LIMIT 10;  '''\n",
        "rows = session.execute(cqlSelect)\n",
        "for row_i, row in enumerate(rows):\n",
        "    print(f'\\nRow {row_i}:')\n",
        "    print(f'    customer_id:      {row.customer_id}')\n",
        "    print(f'    partner_id:      {row.partner_id}')\n",
        "    print(f'    opportunity_id:      {row.opportunity_id}')\n",
        "    print(f'    customer_name:      {row.customer_name}')\n",
        "    print(f'    sentiment:      {row.sentiment}')\n",
        "    print(f'    llm_output:    \\n  {row.llm_output}')\n",
        "\n",
        "print('\\n...')\n"
      ]
    },
    {
      "cell_type": "markdown",
      "id": "VUCjFRriuhYs",
      "metadata": {
        "id": "VUCjFRriuhYs"
      },
      "source": [
        "I want to know more about the customer and the challenges so that it is possible to plan accordingly (Implement query using agent framework such as LangChain, LlamaIndex..)"
      ]
    },
    {
      "cell_type": "code",
      "execution_count": 27,
      "id": "dxdohOBTZqCI",
      "metadata": {
        "colab": {
          "base_uri": "https://localhost:8080/",
          "height": 644
        },
        "id": "dxdohOBTZqCI",
        "outputId": "e885e24a-ffc3-4007-eb1a-6da6ccb1b45b"
      },
      "outputs": [
        {
          "name": "stderr",
          "output_type": "stream",
          "text": [
            "WARNING:cassandra.protocol:Server warning: Top-K queries can only be run with consistency level ONE / LOCAL_ONE / NODE_LOCAL. Consistency level LOCAL_QUORUM was requested. Downgrading the consistency level to LOCAL_ONE.\n"
          ]
        },
        {
          "name": "stdout",
          "output_type": "stream",
          "text": [
            "<cassandra.cluster.ResultSet object at 0x7d173306f7c0>\n",
            "Row(llm_output='Challenges:\\n1. The deprioritized item from Michael.\\n   \\nNext Steps:\\n1. On 08/16/2023, you need to review partner information updates and update opportunity details.\\n2. On 8/17, LR needs to connect with the Partner to offer co-sell support.\\n\\nOpen Items:\\n1. Anjaney needs to schedule a meeting with Nirav/Amy on R&D.\\n\\nSchedule a Meeting:\\n1. Anjaney is to schedule a call with Nirav/Amy on R&D.')\n",
            "Row(llm_output=\"Challenges:\\n1. Proposal did not go through.\\n2. There's no budget left.\\n\\nNext Steps:\\nNo further follow up required.\\n\\nOpen Items:\\nNone\\n\\nSchedule a Meeting:\\nNot applicable\")\n",
            "Row(llm_output=\"Challenges:\\n1. Initial data retrieval from the user community.\\n2. Pulling together Point of View (PoV) for the client.\\n3. Conducting in-person outreach to Deloitte users.\\n4. Follow-up on received responses.\\n\\nNext Steps:\\n1. Contact Federico Gandolfo on 06/20/2023 and 07/05/2023 to discuss deal support.\\n2. Perform in-person outreach to Deloitte users. \\n\\nOpen Items:\\n1. Response from the user community to Caroline's engagement.\\n2. Clarification on pulling together PoV for the client.\\n\\nSchedule a Meeting:\\n1. Meeting with Federico Gandolfo on 06/20/2023 and 07/05/2023.\")\n",
            "Row(llm_output=\"Challenges:\\n1. Timely delivery of the recording and inputs from the demo held on 8/28.\\n2. Review of the Technical and Economic Proposal might be challenging if there's a lack of expertise in the team.\\n\\nNext Steps:\\n1. Autumn needs to send the recording of the last call and the discussed inputs from the demo conducted on 8/28.\\n2. Ramesh is required to provide the recording to Caroline by early next week.\\n3. The team needs to review the Technical and Economic Proposal.\\n\\nOpen Items:\\n1. Completion of the task that has been assigned to Autumn.\\n2. Review of the Technical and Economic Proposal.\\n\\nSchedule a Meeting:\\nNo mention of a meeting to be scheduled.\")\n",
            "Row(llm_output='Challenges:\\n1. Coordinating with Federico Gandolfo for the deal support discussion.\\n\\nNext Steps:\\n1. Execution of the joint sync set for 9/7.\\n2. Commence an enablement session followed by an in-person account mapping.\\n3. Caroline and Michael need to start coordinating.\\n4. Ensure EAI presence.\\n\\nOpen Items:\\n1. Deal support discussion with Federico Gandolfo.\\n\\nSchedule a Meeting:\\n1. Joint sync set for 9/7.\\n2. A meeting with Federico Gandolfo on 07/05/2023 for deal support discussion.')\n"
          ]
        },
        {
          "name": "stderr",
          "output_type": "stream",
          "text": [
            "[nltk_data] Downloading package punkt to /tmp/llama_index...\n",
            "[nltk_data]   Unzipping tokenizers/punkt.zip.\n"
          ]
        },
        {
          "name": "stdout",
          "output_type": "stream",
          "text": [
            "The challenges mentioned in the context information are as follows:\n",
            "1. The deprioritized item from Michael.\n",
            "2. Proposal did not go through.\n",
            "3. There's no budget left.\n",
            "4. Initial data retrieval from the user community.\n",
            "5. Pulling together Point of View (PoV) for the client.\n",
            "6. Conducting in-person outreach to Deloitte users.\n",
            "7. Follow-up on received responses.\n",
            "8. Timely delivery of the recording and inputs from the demo held on 8/28.\n",
            "9. Review of the Technical and Economic Proposal might be challenging if there's a lack of expertise in the team.\n",
            "10. Coordinating with Federico Gandolfo for the deal support discussion.\n",
            "11.\n"
          ]
        },
        {
          "data": {
            "text/markdown": [
              "<b>The challenges mentioned in the context information are as follows:\n",
              "1. The deprioritized item from Michael.\n",
              "2. Proposal did not go through.\n",
              "3. There's no budget left.\n",
              "4. Initial data retrieval from the user community.\n",
              "5. Pulling together Point of View (PoV) for the client.\n",
              "6. Conducting in-person outreach to Deloitte users.\n",
              "7. Follow-up on received responses.\n",
              "8. Timely delivery of the recording and inputs from the demo held on 8/28.\n",
              "9. Review of the Technical and Economic Proposal might be challenging if there's a lack of expertise in the team.\n",
              "10. Coordinating with Federico Gandolfo for the deal support discussion.\n",
              "11.</b>"
            ],
            "text/plain": [
              "<IPython.core.display.Markdown object>"
            ]
          },
          "metadata": {},
          "output_type": "display_data"
        }
      ],
      "source": [
        "vectorsearchon = 'find opportunity with listed challenges'\n",
        "embedding = openai.embeddings.create(input= vectorsearchon, model=model_id).data[0].embedding\n",
        "\n",
        "cqlSelect = f'''SELECT llm_output FROM workspan.customer_opportunities WHERE customer_id = 'CUS100' and partner_id = 'AWS' ORDER BY llm_output_embedding ANN OF {embedding} LIMIT 10;  '''\n",
        "rows = session.execute(cqlSelect)\n",
        "print(rows)\n",
        "documents = []\n",
        "for item in rows:\n",
        "    documents.append(Document(text=str(item)))\n",
        "    print(str(item))\n",
        "\n",
        "index = ListIndex.from_documents(documents)\n",
        "\n",
        "# set Logging to DEBUG for more detailed outputs\n",
        "query_engine = index.as_query_engine()\n",
        "response = query_engine.query(\"What are the Challenges?\")\n",
        "\n",
        "# visualize in console or web\n",
        "print(response)\n",
        "display(Markdown(f\"<b>{response}</b>\"))"
      ]
    }
  ],
  "metadata": {
    "colab": {
      "provenance": []
    },
    "kernelspec": {
      "display_name": "Python 3 (ipykernel)",
      "language": "python",
      "name": "python3"
    },
    "language_info": {
      "codemirror_mode": {
        "name": "ipython",
        "version": 3
      },
      "file_extension": ".py",
      "mimetype": "text/x-python",
      "name": "python",
      "nbconvert_exporter": "python",
      "pygments_lexer": "ipython3",
      "version": "3.10.6"
    }
  },
  "nbformat": 4,
  "nbformat_minor": 5
}
